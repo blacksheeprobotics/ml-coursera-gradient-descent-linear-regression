{
 "cells": [
  {
   "cell_type": "markdown",
   "source": [
    "## Goals\n",
    "- The objective of this lab is to automate the process of optimizing $w$ and $b$ using gradient descent."
   ],
   "metadata": {
    "collapsed": false
   },
   "id": "bc6f1d8f593a86c1"
  },
  {
   "cell_type": "code",
   "outputs": [],
   "source": [
    "import math, copy\n",
    "import numpy as np\n",
    "import matplotlib.pyplot as plt\n",
    "plt.style.use('./deeplearning.mplstyle')\n",
    "from lab_utils_uni import plt_house_x, plt_contour_wgrad, plt_divergence, plt_gradients"
   ],
   "metadata": {
    "collapsed": true,
    "ExecuteTime": {
     "end_time": "2024-02-25T03:24:33.249778Z",
     "start_time": "2024-02-25T03:24:25.283290Z"
    }
   },
   "id": "initial_id",
   "execution_count": 1
  },
  {
   "cell_type": "code",
   "outputs": [],
   "source": [],
   "metadata": {
    "collapsed": false
   },
   "id": "d1bc56e3a79bdfef"
  }
 ],
 "metadata": {
  "kernelspec": {
   "display_name": "Python 3",
   "language": "python",
   "name": "python3"
  },
  "language_info": {
   "codemirror_mode": {
    "name": "ipython",
    "version": 2
   },
   "file_extension": ".py",
   "mimetype": "text/x-python",
   "name": "python",
   "nbconvert_exporter": "python",
   "pygments_lexer": "ipython2",
   "version": "2.7.6"
  }
 },
 "nbformat": 4,
 "nbformat_minor": 5
}
